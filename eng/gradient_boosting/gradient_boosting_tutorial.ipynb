{
 "cells": [
  {
   "cell_type": "markdown",
   "id": "3ff90921",
   "metadata": {},
   "source": [
    "# Gradient Boosting: Advanced Tutorial\n",
    "\n",
    "**Gradient Boosting** is a powerful ensemble technique that builds additive models in a forward stage-wise fashion.\n",
    "Each new model corrects the errors made by the previous ones. It is widely used in tabular ML competitions."
   ]
  },
  {
   "cell_type": "markdown",
   "id": "9c151eb5",
   "metadata": {},
   "source": [
    "## 1. Import Required Libraries"
   ]
  },
  {
   "cell_type": "code",
   "execution_count": null,
   "id": "5088fc2b",
   "metadata": {},
   "outputs": [],
   "source": [
    "import numpy as np\n",
    "import pandas as pd\n",
    "import matplotlib.pyplot as plt\n",
    "import seaborn as sns\n",
    "\n",
    "from sklearn.datasets import load_breast_cancer\n",
    "from sklearn.ensemble import GradientBoostingClassifier\n",
    "from sklearn.model_selection import train_test_split, cross_val_score\n",
    "from sklearn.metrics import accuracy_score, confusion_matrix, classification_report\n",
    "\n",
    "sns.set(style='whitegrid')\n"
   ]
  },
  {
   "cell_type": "markdown",
   "id": "38fc0bb5",
   "metadata": {},
   "source": [
    "## 2. Load Dataset"
   ]
  },
  {
   "cell_type": "code",
   "execution_count": null,
   "id": "eac91e5c",
   "metadata": {},
   "outputs": [],
   "source": [
    "data = load_breast_cancer()\n",
    "X = pd.DataFrame(data.data, columns=data.feature_names)\n",
    "y = pd.Series(data.target)\n",
    "\n",
    "X_train, X_test, y_train, y_test = train_test_split(X, y, test_size=0.3, random_state=42)\n",
    "\n",
    "X.head()\n"
   ]
  },
  {
   "cell_type": "markdown",
   "id": "49cdfc82",
   "metadata": {},
   "source": [
    "## 3. Train Gradient Boosting Model"
   ]
  },
  {
   "cell_type": "code",
   "execution_count": null,
   "id": "f4e13c08",
   "metadata": {},
   "outputs": [],
   "source": [
    "model = GradientBoostingClassifier(n_estimators=100, learning_rate=0.1, max_depth=3, random_state=42)\n",
    "model.fit(X_train, y_train)\n"
   ]
  },
  {
   "cell_type": "markdown",
   "id": "a5b26db7",
   "metadata": {},
   "source": [
    "## 4. Evaluate Model"
   ]
  },
  {
   "cell_type": "code",
   "execution_count": null,
   "id": "acae8b41",
   "metadata": {},
   "outputs": [],
   "source": [
    "y_pred = model.predict(X_test)\n",
    "\n",
    "print(\"Accuracy:\", accuracy_score(y_test, y_pred))\n",
    "print(\"Confusion Matrix:\\n\", confusion_matrix(y_test, y_pred))\n",
    "print(\"Classification Report:\\n\", classification_report(y_test, y_pred))\n"
   ]
  },
  {
   "cell_type": "markdown",
   "id": "8b4d41c1",
   "metadata": {},
   "source": [
    "## 5. Feature Importance"
   ]
  },
  {
   "cell_type": "code",
   "execution_count": null,
   "id": "8257c9bb",
   "metadata": {},
   "outputs": [],
   "source": [
    "importances = model.feature_importances_\n",
    "indices = np.argsort(importances)[::-1]\n",
    "features = X.columns\n",
    "\n",
    "plt.figure(figsize=(10, 6))\n",
    "plt.title(\"Feature Importances\")\n",
    "sns.barplot(x=importances[indices], y=features[indices])\n",
    "plt.show()\n"
   ]
  },
  {
   "cell_type": "markdown",
   "id": "f66e286f",
   "metadata": {},
   "source": [
    "## 6. Cross-Validation"
   ]
  },
  {
   "cell_type": "code",
   "execution_count": null,
   "id": "6c13395f",
   "metadata": {},
   "outputs": [],
   "source": [
    "cv_scores = cross_val_score(model, X, y, cv=5)\n",
    "print(\"CV Accuracy Scores:\", np.round(cv_scores, 3))\n",
    "print(\"Mean CV Accuracy:\", round(np.mean(cv_scores), 3))\n"
   ]
  },
  {
   "cell_type": "markdown",
   "id": "cdcfbe96",
   "metadata": {},
   "source": [
    "## 7. Effect of Learning Rate"
   ]
  },
  {
   "cell_type": "code",
   "execution_count": null,
   "id": "1d6885fe",
   "metadata": {},
   "outputs": [],
   "source": [
    "learning_rates = [0.001, 0.01, 0.1, 0.2, 0.5]\n",
    "cv_means = []\n",
    "\n",
    "for lr in learning_rates:\n",
    "    gb = GradientBoostingClassifier(n_estimators=100, learning_rate=lr, random_state=42)\n",
    "    score = cross_val_score(gb, X, y, cv=5).mean()\n",
    "    cv_means.append(score)\n",
    "\n",
    "plt.plot(learning_rates, cv_means, marker='o')\n",
    "plt.title(\"Effect of Learning Rate on CV Accuracy\")\n",
    "plt.xlabel(\"Learning Rate\")\n",
    "plt.ylabel(\"CV Accuracy\")\n",
    "plt.show()\n"
   ]
  },
  {
   "cell_type": "markdown",
   "id": "f67b746c",
   "metadata": {},
   "source": [
    "## 8. Summary\n",
    "\n",
    "- Gradient Boosting builds models sequentially\n",
    "- Highly effective for structured/tabular data\n",
    "- Tune `n_estimators`, `learning_rate`, and `max_depth`\n",
    "- Compare with XGBoost and LightGBM for better speed/performance"
   ]
  }
 ],
 "metadata": {},
 "nbformat": 4,
 "nbformat_minor": 5
}
