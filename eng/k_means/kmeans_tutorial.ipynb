{
 "cells": [
  {
   "cell_type": "markdown",
   "id": "50b4627f",
   "metadata": {},
   "source": [
    "# KMeans Clustering: Advanced Tutorial\n",
    "\n",
    "**KMeans** is an unsupervised learning algorithm that partitions data into `k` clusters by minimizing within-cluster variance.\n",
    "It is one of the most widely used clustering algorithms due to its simplicity and efficiency."
   ]
  },
  {
   "cell_type": "markdown",
   "id": "4b4da965",
   "metadata": {},
   "source": [
    "## 1. Import Required Libraries"
   ]
  },
  {
   "cell_type": "code",
   "execution_count": null,
   "id": "b59a7500",
   "metadata": {},
   "outputs": [],
   "source": [
    "import numpy as np\n",
    "import pandas as pd\n",
    "import matplotlib.pyplot as plt\n",
    "import seaborn as sns\n",
    "\n",
    "from sklearn.cluster import KMeans\n",
    "from sklearn.datasets import make_blobs\n",
    "from sklearn.metrics import silhouette_score\n",
    "from sklearn.preprocessing import StandardScaler\n",
    "\n",
    "sns.set(style='whitegrid')\n"
   ]
  },
  {
   "cell_type": "markdown",
   "id": "9ad4abc0",
   "metadata": {},
   "source": [
    "## 2. Generate Synthetic Data"
   ]
  },
  {
   "cell_type": "code",
   "execution_count": null,
   "id": "4af004e3",
   "metadata": {},
   "outputs": [],
   "source": [
    "X, y = make_blobs(n_samples=500, centers=4, cluster_std=0.60, random_state=0)\n",
    "X = StandardScaler().fit_transform(X)\n",
    "\n",
    "plt.scatter(X[:, 0], X[:, 1], s=40)\n",
    "plt.title(\"Synthetic Dataset for Clustering\")\n",
    "plt.show()\n"
   ]
  },
  {
   "cell_type": "markdown",
   "id": "f4ec95a6",
   "metadata": {},
   "source": [
    "## 3. Fit KMeans Model"
   ]
  },
  {
   "cell_type": "code",
   "execution_count": null,
   "id": "4ae07e5a",
   "metadata": {},
   "outputs": [],
   "source": [
    "kmeans = KMeans(n_clusters=4, random_state=42)\n",
    "labels = kmeans.fit_predict(X)\n",
    "\n",
    "plt.scatter(X[:, 0], X[:, 1], c=labels, s=40, cmap='viridis')\n",
    "plt.scatter(kmeans.cluster_centers_[:, 0], kmeans.cluster_centers_[:, 1], s=200, c='red', marker='X')\n",
    "plt.title(\"KMeans Clustering Results\")\n",
    "plt.show()\n"
   ]
  },
  {
   "cell_type": "markdown",
   "id": "8c3e8ebd",
   "metadata": {},
   "source": [
    "## 4. Evaluate Clustering Quality"
   ]
  },
  {
   "cell_type": "code",
   "execution_count": null,
   "id": "b668f2ec",
   "metadata": {},
   "outputs": [],
   "source": [
    "print(\"Inertia:\", kmeans.inertia_)\n",
    "print(\"Silhouette Score:\", silhouette_score(X, labels))\n"
   ]
  },
  {
   "cell_type": "markdown",
   "id": "8bf2f27c",
   "metadata": {},
   "source": [
    "## 5. Elbow Method for Optimal k"
   ]
  },
  {
   "cell_type": "code",
   "execution_count": null,
   "id": "55356f74",
   "metadata": {},
   "outputs": [],
   "source": [
    "inertia = []\n",
    "k_range = range(1, 10)\n",
    "\n",
    "for k in k_range:\n",
    "    model = KMeans(n_clusters=k, random_state=42)\n",
    "    model.fit(X)\n",
    "    inertia.append(model.inertia_)\n",
    "\n",
    "plt.plot(k_range, inertia, marker='o')\n",
    "plt.title(\"Elbow Method for Choosing k\")\n",
    "plt.xlabel(\"Number of Clusters (k)\")\n",
    "plt.ylabel(\"Inertia\")\n",
    "plt.show()\n"
   ]
  },
  {
   "cell_type": "markdown",
   "id": "4586f1fb",
   "metadata": {},
   "source": [
    "## 6. Summary\n",
    "\n",
    "- KMeans is efficient and simple\n",
    "- Use `inertia` and `silhouette_score` to evaluate clustering\n",
    "- Use Elbow Method to choose the optimal number of clusters\n",
    "- Sensitive to initialization and outliers"
   ]
  }
 ],
 "metadata": {},
 "nbformat": 4,
 "nbformat_minor": 5
}
