{
 "cells": [
  {
   "cell_type": "markdown",
   "id": "65dfb510",
   "metadata": {},
   "source": [
    "# Random Forest: Advanced Tutorial\n",
    "\n",
    "**Random Forest** is an ensemble learning method that builds multiple decision trees and merges their results to improve accuracy and reduce overfitting.\n",
    "It is widely used for classification and regression tasks."
   ]
  },
  {
   "cell_type": "markdown",
   "id": "c0ebc77a",
   "metadata": {},
   "source": [
    "## 1. Import Required Libraries"
   ]
  },
  {
   "cell_type": "code",
   "execution_count": null,
   "id": "02f7d8ed",
   "metadata": {},
   "outputs": [],
   "source": [
    "import numpy as np\n",
    "import pandas as pd\n",
    "import matplotlib.pyplot as plt\n",
    "import seaborn as sns\n",
    "\n",
    "from sklearn.ensemble import RandomForestClassifier\n",
    "from sklearn.datasets import load_breast_cancer\n",
    "from sklearn.model_selection import train_test_split, cross_val_score\n",
    "from sklearn.metrics import accuracy_score, confusion_matrix, classification_report\n",
    "\n",
    "sns.set(style='whitegrid')\n"
   ]
  },
  {
   "cell_type": "markdown",
   "id": "a922456a",
   "metadata": {},
   "source": [
    "## 2. Load and Prepare Dataset"
   ]
  },
  {
   "cell_type": "code",
   "execution_count": null,
   "id": "4a7327ac",
   "metadata": {},
   "outputs": [],
   "source": [
    "data = load_breast_cancer()\n",
    "X = pd.DataFrame(data.data, columns=data.feature_names)\n",
    "y = pd.Series(data.target)\n",
    "\n",
    "X_train, X_test, y_train, y_test = train_test_split(X, y, test_size=0.3, random_state=42)\n",
    "\n",
    "X.head()\n"
   ]
  },
  {
   "cell_type": "markdown",
   "id": "e284ea89",
   "metadata": {},
   "source": [
    "## 3. Train Random Forest Model"
   ]
  },
  {
   "cell_type": "code",
   "execution_count": null,
   "id": "f81eea43",
   "metadata": {},
   "outputs": [],
   "source": [
    "model = RandomForestClassifier(n_estimators=100, max_depth=5, random_state=42)\n",
    "model.fit(X_train, y_train)\n"
   ]
  },
  {
   "cell_type": "markdown",
   "id": "b9548ac8",
   "metadata": {},
   "source": [
    "## 4. Evaluate the Model"
   ]
  },
  {
   "cell_type": "code",
   "execution_count": null,
   "id": "2e73fec8",
   "metadata": {},
   "outputs": [],
   "source": [
    "y_pred = model.predict(X_test)\n",
    "\n",
    "print(\"Accuracy:\", accuracy_score(y_test, y_pred))\n",
    "print(\"Confusion Matrix:\\n\", confusion_matrix(y_test, y_pred))\n",
    "print(\"Classification Report:\\n\", classification_report(y_test, y_pred))\n"
   ]
  },
  {
   "cell_type": "markdown",
   "id": "fed4fecb",
   "metadata": {},
   "source": [
    "## 5. Feature Importances"
   ]
  },
  {
   "cell_type": "code",
   "execution_count": null,
   "id": "a9b43d63",
   "metadata": {},
   "outputs": [],
   "source": [
    "importances = model.feature_importances_\n",
    "indices = np.argsort(importances)[::-1]\n",
    "features = X.columns\n",
    "\n",
    "plt.figure(figsize=(10, 6))\n",
    "sns.barplot(x=importances[indices], y=features[indices])\n",
    "plt.title(\"Feature Importances from Random Forest\")\n",
    "plt.show()\n"
   ]
  },
  {
   "cell_type": "markdown",
   "id": "ed055909",
   "metadata": {},
   "source": [
    "## 6. Cross-Validation and Tuning"
   ]
  },
  {
   "cell_type": "code",
   "execution_count": null,
   "id": "d6666fe8",
   "metadata": {},
   "outputs": [],
   "source": [
    "cv_scores = cross_val_score(model, X, y, cv=5)\n",
    "print(\"CV Accuracy Scores:\", np.round(cv_scores, 3))\n",
    "print(\"Mean CV Accuracy:\", round(np.mean(cv_scores), 3))\n"
   ]
  },
  {
   "cell_type": "markdown",
   "id": "cafc340c",
   "metadata": {},
   "source": [
    "## 7. Summary\n",
    "\n",
    "- Random Forest reduces overfitting by averaging trees\n",
    "- Each tree is built from a random subset of features and data\n",
    "- Supports feature importance and works well on tabular data\n",
    "- Tune `n_estimators`, `max_depth`, and `max_features` for better results"
   ]
  }
 ],
 "metadata": {},
 "nbformat": 4,
 "nbformat_minor": 5
}
