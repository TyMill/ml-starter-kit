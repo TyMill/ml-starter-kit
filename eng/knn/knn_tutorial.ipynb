{
 "cells": [
  {
   "cell_type": "markdown",
   "id": "feb544aa",
   "metadata": {},
   "source": [
    "# K-Nearest Neighbors (KNN): Advanced Tutorial\n",
    "\n",
    "**KNN** is a simple and intuitive algorithm used for classification and regression.\n",
    "It predicts the label of a data point based on the majority class among its `k` nearest neighbors in the feature space."
   ]
  },
  {
   "cell_type": "markdown",
   "id": "55da65ab",
   "metadata": {},
   "source": [
    "## 1. Import Required Libraries"
   ]
  },
  {
   "cell_type": "code",
   "execution_count": null,
   "id": "5e072f2a",
   "metadata": {},
   "outputs": [],
   "source": [
    "import numpy as np\n",
    "import pandas as pd\n",
    "import matplotlib.pyplot as plt\n",
    "import seaborn as sns\n",
    "\n",
    "from sklearn.datasets import load_wine\n",
    "from sklearn.model_selection import train_test_split, cross_val_score\n",
    "from sklearn.preprocessing import StandardScaler\n",
    "from sklearn.neighbors import KNeighborsClassifier\n",
    "from sklearn.metrics import classification_report, confusion_matrix, accuracy_score\n",
    "\n",
    "sns.set(style='whitegrid')\n"
   ]
  },
  {
   "cell_type": "markdown",
   "id": "7753c035",
   "metadata": {},
   "source": [
    "## 2. Load and Prepare Data"
   ]
  },
  {
   "cell_type": "code",
   "execution_count": null,
   "id": "d762e6b0",
   "metadata": {},
   "outputs": [],
   "source": [
    "data = load_wine()\n",
    "X = pd.DataFrame(data.data, columns=data.feature_names)\n",
    "y = pd.Series(data.target)\n",
    "\n",
    "scaler = StandardScaler()\n",
    "X_scaled = scaler.fit_transform(X)\n",
    "\n",
    "X_train, X_test, y_train, y_test = train_test_split(X_scaled, y, test_size=0.3, random_state=42)\n",
    "\n",
    "X.head()\n"
   ]
  },
  {
   "cell_type": "markdown",
   "id": "322a3ff3",
   "metadata": {},
   "source": [
    "## 3. Fit KNN Model"
   ]
  },
  {
   "cell_type": "code",
   "execution_count": null,
   "id": "c1cb2386",
   "metadata": {},
   "outputs": [],
   "source": [
    "knn = KNeighborsClassifier(n_neighbors=5)\n",
    "knn.fit(X_train, y_train)\n"
   ]
  },
  {
   "cell_type": "markdown",
   "id": "c43696c3",
   "metadata": {},
   "source": [
    "## 4. Evaluate the Model"
   ]
  },
  {
   "cell_type": "code",
   "execution_count": null,
   "id": "245d5c60",
   "metadata": {},
   "outputs": [],
   "source": [
    "y_pred = knn.predict(X_test)\n",
    "\n",
    "print(\"Accuracy:\", accuracy_score(y_test, y_pred))\n",
    "print(\"Confusion Matrix:\\n\", confusion_matrix(y_test, y_pred))\n",
    "print(\"Classification Report:\\n\", classification_report(y_test, y_pred))\n"
   ]
  },
  {
   "cell_type": "markdown",
   "id": "110bd6c2",
   "metadata": {},
   "source": [
    "## 5. Cross-Validation and Hyperparameter Tuning"
   ]
  },
  {
   "cell_type": "code",
   "execution_count": null,
   "id": "abdef646",
   "metadata": {},
   "outputs": [],
   "source": [
    "neighbors_range = range(1, 21)\n",
    "cv_scores = []\n",
    "\n",
    "for k in neighbors_range:\n",
    "    model = KNeighborsClassifier(n_neighbors=k)\n",
    "    scores = cross_val_score(model, X_scaled, y, cv=5)\n",
    "    cv_scores.append(scores.mean())\n",
    "\n",
    "plt.plot(neighbors_range, cv_scores, marker='o')\n",
    "plt.xlabel(\"Number of Neighbors (k)\")\n",
    "plt.ylabel(\"Cross-Validation Accuracy\")\n",
    "plt.title(\"Optimal k Selection using CV\")\n",
    "plt.show()\n"
   ]
  },
  {
   "cell_type": "markdown",
   "id": "aeb1ec50",
   "metadata": {},
   "source": [
    "## 6. Summary\n",
    "\n",
    "- KNN stores the entire training dataset\n",
    "- Distance-based voting determines the label\n",
    "- Simple but powerful for low-dimensional data\n",
    "- Tune `k` and use feature scaling for better performance"
   ]
  }
 ],
 "metadata": {},
 "nbformat": 4,
 "nbformat_minor": 5
}
