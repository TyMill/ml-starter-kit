{
 "cells": [
  {
   "cell_type": "markdown",
   "id": "542d674d",
   "metadata": {},
   "source": [
    "# Transformers: Advanced Tutorial\n",
    "\n",
    "**Transformers** are a deep learning architecture based on self-attention mechanisms. They are foundational to modern NLP models such as BERT, GPT, and T5."
   ]
  },
  {
   "cell_type": "markdown",
   "id": "0b20c8c1",
   "metadata": {},
   "source": [
    "## 1. Install and Import Required Libraries"
   ]
  },
  {
   "cell_type": "code",
   "execution_count": null,
   "id": "86f52b26",
   "metadata": {},
   "outputs": [],
   "source": [
    "!pip install -q transformers datasets\n",
    "\n",
    "import torch\n",
    "from transformers import BertTokenizer, BertModel\n",
    "from datasets import load_dataset\n",
    "import matplotlib.pyplot as plt\n"
   ]
  },
  {
   "cell_type": "markdown",
   "id": "48a0cb18",
   "metadata": {},
   "source": [
    "## 2. Load and Tokenize Text Data"
   ]
  },
  {
   "cell_type": "code",
   "execution_count": null,
   "id": "58495bbc",
   "metadata": {},
   "outputs": [],
   "source": [
    "dataset = load_dataset(\"ag_news\", split=\"train[:100]\")\n",
    "tokenizer = BertTokenizer.from_pretrained(\"bert-base-uncased\")\n",
    "\n",
    "sample_text = dataset[0][\"text\"]\n",
    "tokens = tokenizer(sample_text, return_tensors=\"pt\", padding=True, truncation=True)\n",
    "\n",
    "print(\"Sample text:\", sample_text)\n",
    "print(\"Tokenized input IDs:\", tokens[\"input_ids\"])\n"
   ]
  },
  {
   "cell_type": "markdown",
   "id": "f675d436",
   "metadata": {},
   "source": [
    "## 3. Load Pretrained BERT Model and Get Embeddings"
   ]
  },
  {
   "cell_type": "code",
   "execution_count": null,
   "id": "7434e2ff",
   "metadata": {},
   "outputs": [],
   "source": [
    "model = BertModel.from_pretrained(\"bert-base-uncased\")\n",
    "with torch.no_grad():\n",
    "    outputs = model(**tokens)\n",
    "    last_hidden_state = outputs.last_hidden_state\n",
    "\n",
    "print(\"Shape of last hidden state:\", last_hidden_state.shape)\n"
   ]
  },
  {
   "cell_type": "markdown",
   "id": "0b64dbbc",
   "metadata": {},
   "source": [
    "## 4. Visualize Embeddings (First Token CLS)"
   ]
  },
  {
   "cell_type": "code",
   "execution_count": null,
   "id": "0258bc4c",
   "metadata": {},
   "outputs": [],
   "source": [
    "cls_embedding = last_hidden_state[:, 0, :].squeeze().numpy()\n",
    "\n",
    "plt.plot(cls_embedding[:50])\n",
    "plt.title(\"First 50 dimensions of CLS token embedding\")\n",
    "plt.xlabel(\"Dimension\")\n",
    "plt.ylabel(\"Value\")\n",
    "plt.grid(True)\n",
    "plt.show()\n"
   ]
  },
  {
   "cell_type": "markdown",
   "id": "14cad0d9",
   "metadata": {},
   "source": [
    "## 5. Summary\n",
    "\n",
    "- Transformers rely on **self-attention** instead of recurrence\n",
    "- Pretrained models like BERT generate **contextual embeddings**\n",
    "- `CLS` token is commonly used for classification tasks\n",
    "- Tokenizers convert raw text into IDs to feed into the model"
   ]
  }
 ],
 "metadata": {},
 "nbformat": 4,
 "nbformat_minor": 5
}
