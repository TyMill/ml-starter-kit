{
 "cells": [
  {
   "cell_type": "markdown",
   "id": "c6bdb9a8",
   "metadata": {},
   "source": [
    "# Convolutional Neural Network (CNN): Advanced Tutorial\n",
    "\n",
    "In this notebook, we build and analyze CNNs using image data.\n",
    "We cover:\n",
    "- CNN architecture and theory\n",
    "- Building CNNs in Keras\n",
    "- Image classification on Fashion MNIST\n",
    "- Visualization of feature maps\n",
    "- Evaluation and improvements\n"
   ]
  },
  {
   "cell_type": "markdown",
   "id": "be8eaedc",
   "metadata": {},
   "source": [
    "## 1. Import Required Libraries"
   ]
  },
  {
   "cell_type": "code",
   "execution_count": null,
   "id": "7ef598b6",
   "metadata": {},
   "outputs": [],
   "source": [
    "import numpy as np\n",
    "import matplotlib.pyplot as plt\n",
    "import seaborn as sns\n",
    "import tensorflow as tf\n",
    "from tensorflow.keras import layers, models\n",
    "from tensorflow.keras.datasets import fashion_mnist\n",
    "from sklearn.metrics import classification_report, confusion_matrix\n",
    "\n",
    "sns.set(style=\"whitegrid\")\n"
   ]
  },
  {
   "cell_type": "markdown",
   "id": "a19ce3b5",
   "metadata": {},
   "source": [
    "## 2. What is a CNN?"
   ]
  },
  {
   "cell_type": "markdown",
   "id": "e74632b8",
   "metadata": {},
   "source": [
    "A **Convolutional Neural Network (CNN)** is a type of deep learning model particularly effective for image data.\n",
    "\n",
    "Main layers include:\n",
    "- **Convolutional layers**: feature extraction with filters\n",
    "- **Pooling layers**: spatial downsampling\n",
    "- **Fully connected layers**: classification\n",
    "\n",
    "CNNs excel at recognizing spatial patterns and textures in images.\n"
   ]
  },
  {
   "cell_type": "markdown",
   "id": "a006a4c4",
   "metadata": {},
   "source": [
    "## 3. Load and Preprocess Fashion MNIST"
   ]
  },
  {
   "cell_type": "code",
   "execution_count": null,
   "id": "c98f06da",
   "metadata": {},
   "outputs": [],
   "source": [
    "(X_train, y_train), (X_test, y_test) = fashion_mnist.load_data()\n",
    "\n",
    "# Normalize and reshape\n",
    "X_train = X_train.astype(\"float32\") / 255.0\n",
    "X_test = X_test.astype(\"float32\") / 255.0\n",
    "X_train = np.expand_dims(X_train, -1)\n",
    "X_test = np.expand_dims(X_test, -1)\n",
    "\n",
    "class_names = [\"T-shirt/top\", \"Trouser\", \"Pullover\", \"Dress\", \"Coat\", \n",
    "               \"Sandal\", \"Shirt\", \"Sneaker\", \"Bag\", \"Ankle boot\"]\n",
    "\n",
    "print(\"Train shape:\", X_train.shape)\n"
   ]
  },
  {
   "cell_type": "markdown",
   "id": "aaba482b",
   "metadata": {},
   "source": [
    "## 4. Build a CNN Model"
   ]
  },
  {
   "cell_type": "code",
   "execution_count": null,
   "id": "a6834541",
   "metadata": {},
   "outputs": [],
   "source": [
    "model = models.Sequential([\n",
    "    layers.Conv2D(32, (3, 3), activation='relu', input_shape=(28, 28, 1)),\n",
    "    layers.MaxPooling2D((2, 2)),\n",
    "    layers.Conv2D(64, (3, 3), activation='relu'),\n",
    "    layers.MaxPooling2D((2, 2)),\n",
    "    layers.Flatten(),\n",
    "    layers.Dense(64, activation='relu'),\n",
    "    layers.Dense(10, activation='softmax')\n",
    "])\n",
    "\n",
    "model.compile(optimizer='adam',\n",
    "              loss='sparse_categorical_crossentropy',\n",
    "              metrics=['accuracy'])\n",
    "\n",
    "model.summary()\n"
   ]
  },
  {
   "cell_type": "markdown",
   "id": "bfc86c0f",
   "metadata": {},
   "source": [
    "## 5. Train the CNN"
   ]
  },
  {
   "cell_type": "code",
   "execution_count": null,
   "id": "c4771996",
   "metadata": {},
   "outputs": [],
   "source": [
    "history = model.fit(X_train, y_train, epochs=10, \n",
    "                    validation_split=0.2, batch_size=64)\n"
   ]
  },
  {
   "cell_type": "markdown",
   "id": "2955ba2d",
   "metadata": {},
   "source": [
    "## 6. Evaluate the Model"
   ]
  },
  {
   "cell_type": "code",
   "execution_count": null,
   "id": "705e4382",
   "metadata": {},
   "outputs": [],
   "source": [
    "test_loss, test_acc = model.evaluate(X_test, y_test)\n",
    "print(f\"Test Accuracy: {test_acc:.3f}\")\n"
   ]
  },
  {
   "cell_type": "markdown",
   "id": "5a350370",
   "metadata": {},
   "source": [
    "## 7. Plot Training History"
   ]
  },
  {
   "cell_type": "code",
   "execution_count": null,
   "id": "94ee09eb",
   "metadata": {},
   "outputs": [],
   "source": [
    "plt.plot(history.history[\"accuracy\"], label=\"train acc\")\n",
    "plt.plot(history.history[\"val_accuracy\"], label=\"val acc\")\n",
    "plt.title(\"Accuracy\")\n",
    "plt.legend()\n",
    "plt.show()\n",
    "\n",
    "plt.plot(history.history[\"loss\"], label=\"train loss\")\n",
    "plt.plot(history.history[\"val_loss\"], label=\"val loss\")\n",
    "plt.title(\"Loss\")\n",
    "plt.legend()\n",
    "plt.show()\n"
   ]
  },
  {
   "cell_type": "markdown",
   "id": "b5064997",
   "metadata": {},
   "source": [
    "## 8. Classification Report"
   ]
  },
  {
   "cell_type": "code",
   "execution_count": null,
   "id": "b74e98ba",
   "metadata": {},
   "outputs": [],
   "source": [
    "y_pred = model.predict(X_test)\n",
    "y_pred_labels = np.argmax(y_pred, axis=1)\n",
    "\n",
    "print(classification_report(y_test, y_pred_labels, target_names=class_names))\n"
   ]
  },
  {
   "cell_type": "markdown",
   "id": "47607cd8",
   "metadata": {},
   "source": [
    "## 9. Visualize Predictions"
   ]
  },
  {
   "cell_type": "code",
   "execution_count": null,
   "id": "084cc6cf",
   "metadata": {},
   "outputs": [],
   "source": [
    "def plot_images(images, labels, preds, n=10):\n",
    "    plt.figure(figsize=(15, 4))\n",
    "    for i in range(n):\n",
    "        plt.subplot(1, n, i + 1)\n",
    "        plt.imshow(images[i].squeeze(), cmap=\"gray\")\n",
    "        plt.title(f\"True: {class_names[labels[i]]}\n",
    "Pred: {class_names[preds[i]]}\")\n",
    "        plt.axis(\"off\")\n",
    "    plt.tight_layout()\n",
    "    plt.show()\n",
    "\n",
    "plot_images(X_test, y_test, y_pred_labels)\n"
   ]
  },
  {
   "cell_type": "markdown",
   "id": "bf1fd085",
   "metadata": {},
   "source": [
    "## 10. Summary\n",
    "\n",
    "- CNNs extract and learn spatial features using convolutional filters\n",
    "- Max pooling reduces dimensionality while retaining information\n",
    "- Excellent for image recognition tasks like Fashion MNIST\n",
    "- Can be extended with dropout, batch norm, and deeper architectures"
   ]
  }
 ],
 "metadata": {},
 "nbformat": 4,
 "nbformat_minor": 5
}
