{
 "cells": [
  {
   "cell_type": "markdown",
   "id": "81b05a6e",
   "metadata": {},
   "source": [
    "# Gaussian Mixture Models (GMM): Advanced Tutorial\n",
    "\n",
    "**Gaussian Mixture Models (GMM)** are probabilistic models that assume the data is generated from a mixture of several Gaussian distributions with unknown parameters.\n",
    "They are used for **unsupervised clustering**, **density estimation**, and **anomaly detection**."
   ]
  },
  {
   "cell_type": "markdown",
   "id": "f0d7b717",
   "metadata": {},
   "source": [
    "## 1. Import Required Libraries"
   ]
  },
  {
   "cell_type": "code",
   "execution_count": null,
   "id": "b46e8688",
   "metadata": {},
   "outputs": [],
   "source": [
    "import numpy as np\n",
    "import matplotlib.pyplot as plt\n",
    "import seaborn as sns\n",
    "from sklearn.mixture import GaussianMixture\n",
    "from sklearn.datasets import make_blobs\n",
    "from sklearn.metrics import silhouette_score\n",
    "from sklearn.preprocessing import StandardScaler\n",
    "\n",
    "sns.set(style='whitegrid')\n"
   ]
  },
  {
   "cell_type": "markdown",
   "id": "690245c5",
   "metadata": {},
   "source": [
    "## 2. Generate Synthetic Data"
   ]
  },
  {
   "cell_type": "code",
   "execution_count": null,
   "id": "b2be398b",
   "metadata": {},
   "outputs": [],
   "source": [
    "X, y_true = make_blobs(n_samples=500, centers=3, cluster_std=0.60, random_state=0)\n",
    "X = StandardScaler().fit_transform(X)\n",
    "\n",
    "plt.scatter(X[:, 0], X[:, 1], s=40)\n",
    "plt.title(\"Generated Synthetic Data\")\n",
    "plt.show()\n"
   ]
  },
  {
   "cell_type": "markdown",
   "id": "01995e97",
   "metadata": {},
   "source": [
    "## 3. Fit Gaussian Mixture Model"
   ]
  },
  {
   "cell_type": "code",
   "execution_count": null,
   "id": "6aea3b1c",
   "metadata": {},
   "outputs": [],
   "source": [
    "gmm = GaussianMixture(n_components=3, covariance_type='full', random_state=42)\n",
    "gmm.fit(X)\n",
    "labels = gmm.predict(X)\n",
    "\n",
    "plt.scatter(X[:, 0], X[:, 1], c=labels, s=40, cmap='viridis')\n",
    "plt.title(\"GMM Clustering\")\n",
    "plt.show()\n"
   ]
  },
  {
   "cell_type": "markdown",
   "id": "9ab82ccf",
   "metadata": {},
   "source": [
    "## 4. Compare with KMeans"
   ]
  },
  {
   "cell_type": "code",
   "execution_count": null,
   "id": "69917a8c",
   "metadata": {},
   "outputs": [],
   "source": [
    "from sklearn.cluster import KMeans\n",
    "\n",
    "kmeans = KMeans(n_clusters=3, random_state=42).fit(X)\n",
    "\n",
    "fig, axs = plt.subplots(1, 2, figsize=(12, 5))\n",
    "axs[0].scatter(X[:, 0], X[:, 1], c=kmeans.labels_, cmap='viridis')\n",
    "axs[0].set_title(\"KMeans Clustering\")\n",
    "\n",
    "axs[1].scatter(X[:, 0], X[:, 1], c=labels, cmap='viridis')\n",
    "axs[1].set_title(\"GMM Clustering\")\n",
    "\n",
    "plt.show()\n"
   ]
  },
  {
   "cell_type": "markdown",
   "id": "4cf0a1d7",
   "metadata": {},
   "source": [
    "## 5. Model Evaluation"
   ]
  },
  {
   "cell_type": "code",
   "execution_count": null,
   "id": "25b4f2df",
   "metadata": {},
   "outputs": [],
   "source": [
    "print(\"GMM Silhouette Score:\", silhouette_score(X, labels))\n",
    "print(\"AIC:\", gmm.aic(X))\n",
    "print(\"BIC:\", gmm.bic(X))\n"
   ]
  },
  {
   "cell_type": "markdown",
   "id": "a78c9e5b",
   "metadata": {},
   "source": [
    "## 6. Visualize Gaussian Contours"
   ]
  },
  {
   "cell_type": "code",
   "execution_count": null,
   "id": "a2134dbc",
   "metadata": {},
   "outputs": [],
   "source": [
    "import matplotlib as mpl\n",
    "\n",
    "def draw_ellipse(position, covariance, ax=None, **kwargs):\n",
    "    from matplotlib.patches import Ellipse\n",
    "    ax = ax or plt.gca()\n",
    "\n",
    "    if covariance.shape == (2, 2):\n",
    "        U, s, Vt = np.linalg.svd(covariance)\n",
    "        angle = np.degrees(np.arctan2(U[1, 0], U[0, 0]))\n",
    "        width, height = 2 * np.sqrt(s)\n",
    "    else:\n",
    "        angle = 0\n",
    "        width, height = 2 * np.sqrt(covariance)\n",
    "\n",
    "    for nsig in range(1, 4):\n",
    "        ax.add_patch(Ellipse(position, nsig * width, nsig * height,\n",
    "                             angle, **kwargs))\n",
    "\n",
    "plt.figure(figsize=(8, 6))\n",
    "plt.scatter(X[:, 0], X[:, 1], c=labels, s=30, cmap='viridis', zorder=2)\n",
    "\n",
    "w_factor = 0.2 / gmm.weights_.max()\n",
    "for pos, covar, w in zip(gmm.means_, gmm.covariances_, gmm.weights_):\n",
    "    draw_ellipse(pos, covar, alpha=w * w_factor)\n",
    "\n",
    "plt.title(\"GMM with Gaussian Ellipses\")\n",
    "plt.show()\n"
   ]
  },
  {
   "cell_type": "markdown",
   "id": "fb234a6a",
   "metadata": {},
   "source": [
    "## 7. Summary\n",
    "\n",
    "- GMMs model clusters as Gaussian distributions\n",
    "- Support soft clustering and probability estimates\n",
    "- Great for density estimation and anomaly detection\n",
    "- AIC and BIC help select the number of components"
   ]
  }
 ],
 "metadata": {},
 "nbformat": 4,
 "nbformat_minor": 5
}
