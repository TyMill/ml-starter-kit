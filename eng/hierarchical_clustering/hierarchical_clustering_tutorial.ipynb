{
 "cells": [
  {
   "cell_type": "markdown",
   "id": "f94a9139",
   "metadata": {},
   "source": [
    "# Hierarchical Clustering: Advanced Tutorial\n",
    "\n",
    "**Hierarchical Clustering** is an unsupervised learning technique used to group similar data points into clusters based on their distance.\n",
    "It creates a hierarchy (tree structure) of clusters, often visualized using a dendrogram."
   ]
  },
  {
   "cell_type": "markdown",
   "id": "e805e0c3",
   "metadata": {},
   "source": [
    "## 1. Import Required Libraries"
   ]
  },
  {
   "cell_type": "code",
   "execution_count": null,
   "id": "6399ac00",
   "metadata": {},
   "outputs": [],
   "source": [
    "import numpy as np\n",
    "import pandas as pd\n",
    "import matplotlib.pyplot as plt\n",
    "import seaborn as sns\n",
    "\n",
    "from sklearn.datasets import make_blobs\n",
    "from sklearn.preprocessing import StandardScaler\n",
    "from scipy.cluster.hierarchy import dendrogram, linkage, fcluster\n",
    "from scipy.spatial.distance import pdist\n",
    "\n",
    "sns.set(style=\"whitegrid\")\n"
   ]
  },
  {
   "cell_type": "markdown",
   "id": "703f247f",
   "metadata": {},
   "source": [
    "## 2. Generate and Visualize Data"
   ]
  },
  {
   "cell_type": "code",
   "execution_count": null,
   "id": "1df3364b",
   "metadata": {},
   "outputs": [],
   "source": [
    "X, y = make_blobs(n_samples=300, centers=4, cluster_std=0.60, random_state=42)\n",
    "X = StandardScaler().fit_transform(X)\n",
    "\n",
    "plt.figure(figsize=(8, 6))\n",
    "plt.scatter(X[:, 0], X[:, 1], s=40)\n",
    "plt.title(\"Generated Data for Clustering\")\n",
    "plt.show()\n"
   ]
  },
  {
   "cell_type": "markdown",
   "id": "ff9e05fb",
   "metadata": {},
   "source": [
    "## 3. Compute Linkage Matrix and Dendrogram"
   ]
  },
  {
   "cell_type": "code",
   "execution_count": null,
   "id": "7d1ac1f3",
   "metadata": {},
   "outputs": [],
   "source": [
    "link_matrix = linkage(X, method='ward')\n",
    "plt.figure(figsize=(12, 6))\n",
    "dendrogram(link_matrix)\n",
    "plt.title(\"Hierarchical Clustering Dendrogram\")\n",
    "plt.xlabel(\"Sample Index\")\n",
    "plt.ylabel(\"Distance\")\n",
    "plt.show()\n"
   ]
  },
  {
   "cell_type": "markdown",
   "id": "864f5230",
   "metadata": {},
   "source": [
    "## 4. Assign Cluster Labels"
   ]
  },
  {
   "cell_type": "code",
   "execution_count": null,
   "id": "43ba0703",
   "metadata": {},
   "outputs": [],
   "source": [
    "# Cut dendrogram at height to form flat clusters\n",
    "labels = fcluster(link_matrix, t=4, criterion='maxclust')\n",
    "\n",
    "plt.figure(figsize=(8, 6))\n",
    "plt.scatter(X[:, 0], X[:, 1], c=labels, cmap='tab10', s=40)\n",
    "plt.title(\"Clusters Assigned from Hierarchical Clustering\")\n",
    "plt.show()\n"
   ]
  },
  {
   "cell_type": "markdown",
   "id": "4eeb0208",
   "metadata": {},
   "source": [
    "## 5. Try Different Linkage Methods"
   ]
  },
  {
   "cell_type": "code",
   "execution_count": null,
   "id": "0f8b8846",
   "metadata": {},
   "outputs": [],
   "source": [
    "methods = ['ward', 'complete', 'average', 'single']\n",
    "plt.figure(figsize=(16, 10))\n",
    "\n",
    "for i, method in enumerate(methods):\n",
    "    plt.subplot(2, 2, i+1)\n",
    "    Z = linkage(X, method=method)\n",
    "    dendrogram(Z, no_labels=True)\n",
    "    plt.title(f\"{method.capitalize()} Linkage\")\n",
    "\n",
    "plt.tight_layout()\n",
    "plt.show()\n"
   ]
  },
  {
   "cell_type": "markdown",
   "id": "ca80e663",
   "metadata": {},
   "source": [
    "## 6. Summary\n",
    "\n",
    "- Hierarchical Clustering creates a tree of clusters\n",
    "- Dendrograms show merge distances\n",
    "- Ward, complete, average, and single linkage define how distances are computed\n",
    "- Can be used when number of clusters is unknown"
   ]
  }
 ],
 "metadata": {},
 "nbformat": 4,
 "nbformat_minor": 5
}
