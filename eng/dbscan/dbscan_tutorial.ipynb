{
 "cells": [
  {
   "cell_type": "markdown",
   "id": "7a72e485",
   "metadata": {},
   "source": [
    "# DBSCAN: Advanced Tutorial\n",
    "\n",
    "**DBSCAN (Density-Based Spatial Clustering of Applications with Noise)** is an unsupervised clustering algorithm that groups together points that are closely packed, and marks outliers as noise.\n",
    "\n",
    "In this notebook, we explore DBSCAN using synthetic and real datasets, visualize clusters, tune parameters, and compare with KMeans."
   ]
  },
  {
   "cell_type": "markdown",
   "id": "c531a2c6",
   "metadata": {},
   "source": [
    "## 1. Import Required Libraries"
   ]
  },
  {
   "cell_type": "code",
   "execution_count": null,
   "id": "2b4018fe",
   "metadata": {},
   "outputs": [],
   "source": [
    "import numpy as np\n",
    "import pandas as pd\n",
    "import matplotlib.pyplot as plt\n",
    "import seaborn as sns\n",
    "\n",
    "from sklearn.datasets import make_moons, make_blobs\n",
    "from sklearn.cluster import DBSCAN, KMeans\n",
    "from sklearn.metrics import silhouette_score\n",
    "from sklearn.preprocessing import StandardScaler\n",
    "\n",
    "sns.set(style=\"whitegrid\")\n"
   ]
  },
  {
   "cell_type": "markdown",
   "id": "da6a8f75",
   "metadata": {},
   "source": [
    "## 2. What is DBSCAN?"
   ]
  },
  {
   "cell_type": "markdown",
   "id": "a4744268",
   "metadata": {},
   "source": [
    "DBSCAN groups together points that are close to each other based on a distance metric (e.g. Euclidean) and a minimum number of neighbors.\n",
    "\n",
    "It works well when:\n",
    "- Clusters are irregularly shaped\n",
    "- There's noise or outliers\n",
    "- You don’t know the number of clusters in advance\n",
    "\n",
    "Key Parameters:\n",
    "- `eps`: max distance between two samples to be in the same neighborhood\n",
    "- `min_samples`: minimum number of points to form a dense region\n"
   ]
  },
  {
   "cell_type": "markdown",
   "id": "30e94c88",
   "metadata": {},
   "source": [
    "## 3. Clustering Synthetic Moon Data"
   ]
  },
  {
   "cell_type": "code",
   "execution_count": null,
   "id": "41e9fb5a",
   "metadata": {},
   "outputs": [],
   "source": [
    "X, _ = make_moons(n_samples=500, noise=0.1, random_state=42)\n",
    "X = StandardScaler().fit_transform(X)\n",
    "\n",
    "db = DBSCAN(eps=0.3, min_samples=5)\n",
    "labels = db.fit_predict(X)\n",
    "\n",
    "plt.figure(figsize=(8,6))\n",
    "plt.scatter(X[:,0], X[:,1], c=labels, cmap='viridis', s=30)\n",
    "plt.title(\"DBSCAN Clustering on Moon-Shaped Data\")\n",
    "plt.show()\n"
   ]
  },
  {
   "cell_type": "markdown",
   "id": "86cd98c7",
   "metadata": {},
   "source": [
    "## 4. Compare DBSCAN and KMeans on Blobs"
   ]
  },
  {
   "cell_type": "code",
   "execution_count": null,
   "id": "f05de0fe",
   "metadata": {},
   "outputs": [],
   "source": [
    "X_blob, _ = make_blobs(n_samples=300, centers=3, cluster_std=1.0, random_state=42)\n",
    "X_blob = StandardScaler().fit_transform(X_blob)\n",
    "\n",
    "kmeans = KMeans(n_clusters=3, random_state=42).fit(X_blob)\n",
    "dbscan = DBSCAN(eps=0.5, min_samples=5).fit(X_blob)\n",
    "\n",
    "fig, axes = plt.subplots(1, 2, figsize=(12, 5))\n",
    "axes[0].scatter(X_blob[:, 0], X_blob[:, 1], c=kmeans.labels_, cmap='tab10')\n",
    "axes[0].set_title(\"KMeans Clustering\")\n",
    "\n",
    "axes[1].scatter(X_blob[:, 0], X_blob[:, 1], c=dbscan.labels_, cmap='tab10')\n",
    "axes[1].set_title(\"DBSCAN Clustering\")\n",
    "\n",
    "plt.show()\n"
   ]
  },
  {
   "cell_type": "markdown",
   "id": "3720cf76",
   "metadata": {},
   "source": [
    "## 5. Silhouette Score for DBSCAN"
   ]
  },
  {
   "cell_type": "code",
   "execution_count": null,
   "id": "d0a419c7",
   "metadata": {},
   "outputs": [],
   "source": [
    "if len(set(dbscan.labels_)) > 1:\n",
    "    score = silhouette_score(X_blob, dbscan.labels_)\n",
    "    print(\"Silhouette Score (DBSCAN):\", round(score, 3))\n",
    "else:\n",
    "    print(\"Silhouette Score not available (only one cluster)\")\n"
   ]
  },
  {
   "cell_type": "markdown",
   "id": "e4dad1d1",
   "metadata": {},
   "source": [
    "## 6. Tuning eps and min_samples"
   ]
  },
  {
   "cell_type": "code",
   "execution_count": null,
   "id": "aaf3fc90",
   "metadata": {},
   "outputs": [],
   "source": [
    "eps_values = np.linspace(0.1, 1.0, 10)\n",
    "scores = []\n",
    "\n",
    "for eps in eps_values:\n",
    "    model = DBSCAN(eps=eps, min_samples=5)\n",
    "    labels = model.fit_predict(X_blob)\n",
    "    if len(set(labels)) > 1:\n",
    "        scores.append(silhouette_score(X_blob, labels))\n",
    "    else:\n",
    "        scores.append(-1)\n",
    "\n",
    "plt.plot(eps_values, scores, marker='o')\n",
    "plt.xlabel(\"eps\")\n",
    "plt.ylabel(\"Silhouette Score\")\n",
    "plt.title(\"DBSCAN Silhouette Score vs eps\")\n",
    "plt.show()\n"
   ]
  },
  {
   "cell_type": "markdown",
   "id": "0dee881e",
   "metadata": {},
   "source": [
    "## 7. Summary\n",
    "\n",
    "- DBSCAN is ideal for noisy and non-spherical data\n",
    "- Doesn’t require the number of clusters upfront\n",
    "- Sensitive to `eps` and `min_samples`\n",
    "- Try with different distance metrics and scaled data"
   ]
  }
 ],
 "metadata": {},
 "nbformat": 4,
 "nbformat_minor": 5
}
