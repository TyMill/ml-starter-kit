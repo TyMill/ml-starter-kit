{
 "cells": [
  {
   "cell_type": "markdown",
   "id": "52a4b218",
   "metadata": {},
   "source": [
    "# Recurrent Neural Networks (RNN): Advanced Tutorial\n",
    "\n",
    "**Recurrent Neural Networks (RNNs)** are a class of neural networks designed for sequential data.\n",
    "They are widely used in time series forecasting, natural language processing, and sequence modeling."
   ]
  },
  {
   "cell_type": "markdown",
   "id": "1de07967",
   "metadata": {},
   "source": [
    "## 1. Import Required Libraries"
   ]
  },
  {
   "cell_type": "code",
   "execution_count": null,
   "id": "e0441f54",
   "metadata": {},
   "outputs": [],
   "source": [
    "import numpy as np\n",
    "import matplotlib.pyplot as plt\n",
    "import torch\n",
    "import torch.nn as nn\n",
    "from torch.utils.data import DataLoader, TensorDataset\n",
    "\n",
    "torch.manual_seed(42)\n"
   ]
  },
  {
   "cell_type": "markdown",
   "id": "7b0c2bc1",
   "metadata": {},
   "source": [
    "## 2. Generate Synthetic Sequential Data"
   ]
  },
  {
   "cell_type": "code",
   "execution_count": null,
   "id": "b6e9408f",
   "metadata": {},
   "outputs": [],
   "source": [
    "# Create a sine wave as the sequence data\n",
    "timesteps = np.linspace(0, 100, 1000)\n",
    "data = np.sin(timesteps)\n",
    "\n",
    "plt.plot(timesteps, data)\n",
    "plt.title(\"Synthetic Sine Wave\")\n",
    "plt.xlabel(\"Time\")\n",
    "plt.ylabel(\"Amplitude\")\n",
    "plt.show()\n"
   ]
  },
  {
   "cell_type": "markdown",
   "id": "b2cef4bc",
   "metadata": {},
   "source": [
    "## 3. Prepare Data for RNN"
   ]
  },
  {
   "cell_type": "code",
   "execution_count": null,
   "id": "81d2d7ca",
   "metadata": {},
   "outputs": [],
   "source": [
    "def create_dataset(seq, input_size):\n",
    "    X, y = [], []\n",
    "    for i in range(len(seq) - input_size):\n",
    "        X.append(seq[i:i+input_size])\n",
    "        y.append(seq[i+input_size])\n",
    "    return np.array(X), np.array(y)\n",
    "\n",
    "input_size = 20\n",
    "X, y = create_dataset(data, input_size)\n",
    "X_tensor = torch.tensor(X).unsqueeze(-1).float()\n",
    "y_tensor = torch.tensor(y).float()\n",
    "\n",
    "dataset = TensorDataset(X_tensor, y_tensor)\n",
    "dataloader = DataLoader(dataset, batch_size=32, shuffle=True)\n",
    "\n",
    "X_tensor.shape, y_tensor.shape\n"
   ]
  },
  {
   "cell_type": "markdown",
   "id": "e79e9f7a",
   "metadata": {},
   "source": [
    "## 4. Define RNN Model in PyTorch"
   ]
  },
  {
   "cell_type": "code",
   "execution_count": null,
   "id": "f4f6e574",
   "metadata": {},
   "outputs": [],
   "source": [
    "class RNNModel(nn.Module):\n",
    "    def __init__(self, input_size=1, hidden_size=50, num_layers=1):\n",
    "        super(RNNModel, self).__init__()\n",
    "        self.rnn = nn.RNN(input_size, hidden_size, num_layers, batch_first=True)\n",
    "        self.fc = nn.Linear(hidden_size, 1)\n",
    "\n",
    "    def forward(self, x):\n",
    "        out, _ = self.rnn(x)\n",
    "        out = self.fc(out[:, -1, :])\n",
    "        return out.squeeze()\n",
    "\n",
    "model = RNNModel()\n",
    "criterion = nn.MSELoss()\n",
    "optimizer = torch.optim.Adam(model.parameters(), lr=0.001)\n"
   ]
  },
  {
   "cell_type": "markdown",
   "id": "902a133c",
   "metadata": {},
   "source": [
    "## 5. Train the RNN Model"
   ]
  },
  {
   "cell_type": "code",
   "execution_count": null,
   "id": "a8e07795",
   "metadata": {},
   "outputs": [],
   "source": [
    "losses = []\n",
    "\n",
    "for epoch in range(30):\n",
    "    total_loss = 0\n",
    "    for xb, yb in dataloader:\n",
    "        pred = model(xb)\n",
    "        loss = criterion(pred, yb)\n",
    "        optimizer.zero_grad()\n",
    "        loss.backward()\n",
    "        optimizer.step()\n",
    "        total_loss += loss.item()\n",
    "    losses.append(total_loss / len(dataloader))\n",
    "    if epoch % 5 == 0:\n",
    "        print(f\"Epoch {epoch}, Loss: {losses[-1]:.4f}\")\n",
    "\n",
    "plt.plot(losses)\n",
    "plt.title(\"Training Loss\")\n",
    "plt.xlabel(\"Epoch\")\n",
    "plt.ylabel(\"MSE Loss\")\n",
    "plt.show()\n"
   ]
  },
  {
   "cell_type": "markdown",
   "id": "0d6e11dc",
   "metadata": {},
   "source": [
    "## 6. Make Predictions"
   ]
  },
  {
   "cell_type": "code",
   "execution_count": null,
   "id": "3e2ca645",
   "metadata": {},
   "outputs": [],
   "source": [
    "model.eval()\n",
    "with torch.no_grad():\n",
    "    test_input = X_tensor[:1]\n",
    "    predictions = []\n",
    "    for _ in range(200):\n",
    "        pred = model(test_input)\n",
    "        predictions.append(pred.item())\n",
    "        next_input = torch.cat((test_input[:, 1:, :], pred.unsqueeze(0).unsqueeze(2)), dim=1)\n",
    "        test_input = next_input\n",
    "\n",
    "plt.plot(data[input_size:], label=\"True\")\n",
    "plt.plot(np.arange(input_size, input_size + len(predictions)), predictions, label=\"Predicted\")\n",
    "plt.legend()\n",
    "plt.title(\"RNN Sequence Prediction\")\n",
    "plt.show()\n"
   ]
  },
  {
   "cell_type": "markdown",
   "id": "ce954c00",
   "metadata": {},
   "source": [
    "## 7. Summary\n",
    "\n",
    "- RNNs process sequential data using hidden states\n",
    "- Suitable for time series forecasting and NLP\n",
    "- PyTorch provides flexible API for RNN implementation\n",
    "- For long sequences, consider LSTM or GRU models"
   ]
  }
 ],
 "metadata": {},
 "nbformat": 4,
 "nbformat_minor": 5
}
