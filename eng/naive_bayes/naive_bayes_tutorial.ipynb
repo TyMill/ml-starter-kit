{
 "cells": [
  {
   "cell_type": "markdown",
   "id": "e6b595e6",
   "metadata": {},
   "source": [
    "# Naive Bayes: Advanced Tutorial\n",
    "\n",
    "This notebook provides a comprehensive walkthrough of Naive Bayes classifiers using both synthetic and real-world data.\n",
    "We cover:\n",
    "- Theory behind Naive Bayes\n",
    "- GaussianNB and MultinomialNB\n",
    "- Use in text classification (spam detection)\n",
    "- Comparison with logistic regression\n",
    "- Model evaluation and visualization\n"
   ]
  },
  {
   "cell_type": "markdown",
   "id": "cdd3f3b2",
   "metadata": {},
   "source": [
    "## 1. Import Required Libraries"
   ]
  },
  {
   "cell_type": "code",
   "execution_count": null,
   "id": "7065043e",
   "metadata": {},
   "outputs": [],
   "source": [
    "import numpy as np\n",
    "import pandas as pd\n",
    "import matplotlib.pyplot as plt\n",
    "import seaborn as sns\n",
    "\n",
    "from sklearn.datasets import make_classification, fetch_20newsgroups\n",
    "from sklearn.model_selection import train_test_split\n",
    "from sklearn.naive_bayes import GaussianNB, MultinomialNB\n",
    "from sklearn.feature_extraction.text import CountVectorizer, TfidfVectorizer\n",
    "from sklearn.metrics import confusion_matrix, classification_report, accuracy_score\n",
    "from sklearn.pipeline import make_pipeline\n",
    "from sklearn.linear_model import LogisticRegression\n",
    "import warnings\n",
    "\n",
    "warnings.filterwarnings(\"ignore\")\n",
    "sns.set(style=\"whitegrid\")\n"
   ]
  },
  {
   "cell_type": "markdown",
   "id": "8bb1ebf4",
   "metadata": {},
   "source": [
    "## 2. Understanding Naive Bayes"
   ]
  },
  {
   "cell_type": "markdown",
   "id": "4403a9da",
   "metadata": {},
   "source": [
    "Naive Bayes classifiers are a family of simple probabilistic classifiers based on applying Bayes' theorem with strong (naive) independence assumptions between features.\n",
    "\n",
    "The general formula is:\n",
    "\n",
    "$$\n",
    "P(y | x_1, ..., x_n) = \\frac{P(y) \\prod_{i=1}^{n} P(x_i | y)}{P(x_1, ..., x_n)}\n",
    "$$\n",
    "\n",
    "Key Types:\n",
    "- **GaussianNB** – assumes features follow normal distribution\n",
    "- **MultinomialNB** – used for text data and word counts\n",
    "- **BernoulliNB** – binary/boolean features\n"
   ]
  },
  {
   "cell_type": "markdown",
   "id": "ba9a9080",
   "metadata": {},
   "source": [
    "## 3. Synthetic Data with GaussianNB"
   ]
  },
  {
   "cell_type": "code",
   "execution_count": null,
   "id": "e493e242",
   "metadata": {},
   "outputs": [],
   "source": [
    "X, y = make_classification(n_samples=500, n_features=5, n_redundant=0, n_informative=3, random_state=42)\n",
    "\n",
    "X_train, X_test, y_train, y_test = train_test_split(X, y, test_size=0.3, random_state=42)\n",
    "\n",
    "gnb = GaussianNB()\n",
    "gnb.fit(X_train, y_train)\n",
    "y_pred = gnb.predict(X_test)\n",
    "\n",
    "print(\"Accuracy:\", accuracy_score(y_test, y_pred))\n",
    "print(classification_report(y_test, y_pred))\n"
   ]
  },
  {
   "cell_type": "markdown",
   "id": "a1b3afad",
   "metadata": {},
   "source": [
    "## 4. Visualizing Decision Boundary (2D)"
   ]
  },
  {
   "cell_type": "code",
   "execution_count": null,
   "id": "151e2ac4",
   "metadata": {},
   "outputs": [],
   "source": [
    "from matplotlib.colors import ListedColormap\n",
    "\n",
    "X_vis, y_vis = make_classification(n_samples=300, n_features=2, n_redundant=0, random_state=42)\n",
    "gnb2 = GaussianNB().fit(X_vis, y_vis)\n",
    "\n",
    "x_min, x_max = X_vis[:, 0].min() - 1, X_vis[:, 0].max() + 1\n",
    "y_min, y_max = X_vis[:, 1].min() - 1, X_vis[:, 1].max() + 1\n",
    "xx, yy = np.meshgrid(np.linspace(x_min, x_max, 200),\n",
    "                     np.linspace(y_min, y_max, 200))\n",
    "Z = gnb2.predict(np.c_[xx.ravel(), yy.ravel()])\n",
    "Z = Z.reshape(xx.shape)\n",
    "\n",
    "plt.contourf(xx, yy, Z, alpha=0.3, cmap=ListedColormap([\"#FFAAAA\", \"#AAAAFF\"]))\n",
    "plt.scatter(X_vis[:, 0], X_vis[:, 1], c=y_vis, edgecolor=\"k\", cmap=ListedColormap([\"#FF0000\", \"#0000FF\"]))\n",
    "plt.title(\"Gaussian Naive Bayes Decision Boundary (2D)\")\n",
    "plt.show()\n"
   ]
  },
  {
   "cell_type": "markdown",
   "id": "1f10e894",
   "metadata": {},
   "source": [
    "## 5. Naive Bayes for Text Classification (MultinomialNB)"
   ]
  },
  {
   "cell_type": "code",
   "execution_count": null,
   "id": "72989221",
   "metadata": {},
   "outputs": [],
   "source": [
    "categories = ['rec.sport.baseball', 'sci.space', 'talk.politics.guns']\n",
    "news = fetch_20newsgroups(subset='train', categories=categories)\n",
    "\n",
    "vectorizer = TfidfVectorizer(stop_words='english', max_features=3000)\n",
    "X_text = vectorizer.fit_transform(news.data)\n",
    "y_text = news.target\n",
    "\n",
    "X_train_text, X_test_text, y_train_text, y_test_text = train_test_split(X_text, y_text, test_size=0.3, random_state=42)\n",
    "\n",
    "mnb = MultinomialNB()\n",
    "mnb.fit(X_train_text, y_train_text)\n",
    "y_pred_text = mnb.predict(X_test_text)\n",
    "\n",
    "print(\"Accuracy:\", accuracy_score(y_test_text, y_pred_text))\n",
    "print(classification_report(y_test_text, y_pred_text, target_names=news.target_names))\n"
   ]
  },
  {
   "cell_type": "markdown",
   "id": "dca3b10a",
   "metadata": {},
   "source": [
    "## 6. Comparing Naive Bayes and Logistic Regression"
   ]
  },
  {
   "cell_type": "code",
   "execution_count": null,
   "id": "2e61a85a",
   "metadata": {},
   "outputs": [],
   "source": [
    "logreg = LogisticRegression(max_iter=1000)\n",
    "logreg.fit(X_train_text, y_train_text)\n",
    "y_logreg_pred = logreg.predict(X_test_text)\n",
    "\n",
    "print(\"Logistic Regression Accuracy:\", accuracy_score(y_test_text, y_logreg_pred))\n",
    "print(\"Naive Bayes Accuracy:\", accuracy_score(y_test_text, y_pred_text))\n"
   ]
  },
  {
   "cell_type": "markdown",
   "id": "84afe524",
   "metadata": {},
   "source": [
    "## 7. Summary\n",
    "\n",
    "- Naive Bayes is powerful for high-dimensional and text data\n",
    "- Fast, interpretable, and effective in many tasks\n",
    "- Assumes feature independence, which is often violated\n",
    "- Try with other data: sentiment analysis, spam detection, topic classification"
   ]
  }
 ],
 "metadata": {},
 "nbformat": 4,
 "nbformat_minor": 5
}
