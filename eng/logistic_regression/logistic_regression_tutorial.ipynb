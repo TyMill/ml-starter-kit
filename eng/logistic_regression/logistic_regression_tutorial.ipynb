{
 "cells": [
  {
   "cell_type": "markdown",
   "id": "98a2d8a9",
   "metadata": {},
   "source": [
    "# Logistic Regression: Advanced Tutorial\n",
    "\n",
    "In this notebook, we demonstrate logistic regression for binary classification using synthetic and real-world data.\n",
    "Covered topics:\n",
    "- Decision boundary visualization\n",
    "- Probabilistic interpretation\n",
    "- sklearn implementation\n",
    "- Real dataset: Breast Cancer\n",
    "- Confusion matrix, ROC curve, metrics"
   ]
  },
  {
   "cell_type": "markdown",
   "id": "229a9b95",
   "metadata": {},
   "source": [
    "## 1. Import Required Libraries"
   ]
  },
  {
   "cell_type": "code",
   "execution_count": null,
   "id": "0bad6d56",
   "metadata": {},
   "outputs": [],
   "source": [
    "import numpy as np\n",
    "import pandas as pd\n",
    "import matplotlib.pyplot as plt\n",
    "import seaborn as sns\n",
    "\n",
    "from sklearn.linear_model import LogisticRegression\n",
    "from sklearn.datasets import make_classification, load_breast_cancer\n",
    "from sklearn.model_selection import train_test_split\n",
    "from sklearn.metrics import (\n",
    "    confusion_matrix, classification_report, roc_curve, roc_auc_score\n",
    ")\n",
    "\n",
    "sns.set(style=\"whitegrid\")\n"
   ]
  },
  {
   "cell_type": "markdown",
   "id": "bd926ad8",
   "metadata": {},
   "source": [
    "## 2. Generate Synthetic Data"
   ]
  },
  {
   "cell_type": "code",
   "execution_count": null,
   "id": "b209e01f",
   "metadata": {},
   "outputs": [],
   "source": [
    "X, y = make_classification(n_samples=500, n_features=2, n_redundant=0, \n",
    "                           n_clusters_per_class=1, random_state=42)\n",
    "\n",
    "plt.figure(figsize=(8, 6))\n",
    "sns.scatterplot(x=X[:, 0], y=X[:, 1], hue=y, palette=\"coolwarm\")\n",
    "plt.title(\"Synthetic Binary Classification Data\")\n",
    "plt.xlabel(\"Feature 1\")\n",
    "plt.ylabel(\"Feature 2\")\n",
    "plt.show()\n"
   ]
  },
  {
   "cell_type": "markdown",
   "id": "a715a40f",
   "metadata": {},
   "source": [
    "## 3. Logistic Regression Fit"
   ]
  },
  {
   "cell_type": "code",
   "execution_count": null,
   "id": "25e99383",
   "metadata": {},
   "outputs": [],
   "source": [
    "model = LogisticRegression()\n",
    "model.fit(X, y)\n",
    "\n",
    "print(\"Intercept:\", model.intercept_)\n",
    "print(\"Coefficients:\", model.coef_)\n"
   ]
  },
  {
   "cell_type": "markdown",
   "id": "c3fd66b4",
   "metadata": {},
   "source": [
    "## 4. Decision Boundary"
   ]
  },
  {
   "cell_type": "code",
   "execution_count": null,
   "id": "797423a9",
   "metadata": {},
   "outputs": [],
   "source": [
    "# Plot decision boundary\n",
    "def plot_decision_boundary(X, y, model):\n",
    "    h = .02\n",
    "    x_min, x_max = X[:, 0].min() - 1, X[:, 0].max() + 1\n",
    "    y_min, y_max = X[:, 1].min() - 1, X[:, 1].max() + 1\n",
    "    xx, yy = np.meshgrid(np.arange(x_min, x_max, h),\n",
    "                         np.arange(y_min, y_max, h))\n",
    "    Z = model.predict(np.c_[xx.ravel(), yy.ravel()])\n",
    "    Z = Z.reshape(xx.shape)\n",
    "    plt.contourf(xx, yy, Z, alpha=0.3, cmap=plt.cm.coolwarm)\n",
    "    sns.scatterplot(x=X[:, 0], y=X[:, 1], hue=y, palette=\"coolwarm\", edgecolor=\"k\")\n",
    "    plt.xlabel(\"Feature 1\")\n",
    "    plt.ylabel(\"Feature 2\")\n",
    "    plt.title(\"Logistic Regression Decision Boundary\")\n",
    "    plt.show()\n",
    "\n",
    "plot_decision_boundary(X, y, model)\n"
   ]
  },
  {
   "cell_type": "markdown",
   "id": "f833596c",
   "metadata": {},
   "source": [
    "## 5. Real Dataset: Breast Cancer"
   ]
  },
  {
   "cell_type": "code",
   "execution_count": null,
   "id": "938d0ca8",
   "metadata": {},
   "outputs": [],
   "source": [
    "cancer = load_breast_cancer()\n",
    "df = pd.DataFrame(cancer.data, columns=cancer.feature_names)\n",
    "df[\"target\"] = cancer.target\n",
    "df.head()\n"
   ]
  },
  {
   "cell_type": "markdown",
   "id": "a6dcd1db",
   "metadata": {},
   "source": [
    "## 6. Train/Test Split"
   ]
  },
  {
   "cell_type": "code",
   "execution_count": null,
   "id": "d0ff5078",
   "metadata": {},
   "outputs": [],
   "source": [
    "X = df.drop(\"target\", axis=1)\n",
    "y = df[\"target\"]\n",
    "\n",
    "X_train, X_test, y_train, y_test = train_test_split(X, y, test_size=0.2, random_state=42)\n",
    "\n",
    "clf = LogisticRegression(max_iter=5000)\n",
    "clf.fit(X_train, y_train)\n",
    "\n",
    "y_pred = clf.predict(X_test)\n"
   ]
  },
  {
   "cell_type": "markdown",
   "id": "29affa5f",
   "metadata": {},
   "source": [
    "## 7. Model Evaluation"
   ]
  },
  {
   "cell_type": "code",
   "execution_count": null,
   "id": "d883d753",
   "metadata": {},
   "outputs": [],
   "source": [
    "print(confusion_matrix(y_test, y_pred))\n",
    "print(classification_report(y_test, y_pred))\n",
    "\n",
    "y_proba = clf.predict_proba(X_test)[:, 1]\n",
    "roc_auc = roc_auc_score(y_test, y_proba)\n",
    "\n",
    "fpr, tpr, _ = roc_curve(y_test, y_proba)\n",
    "plt.plot(fpr, tpr, label=f\"AUC = {roc_auc:.2f}\")\n",
    "plt.plot([0, 1], [0, 1], linestyle=\"--\")\n",
    "plt.xlabel(\"False Positive Rate\")\n",
    "plt.ylabel(\"True Positive Rate\")\n",
    "plt.title(\"ROC Curve\")\n",
    "plt.legend()\n",
    "plt.show()\n"
   ]
  },
  {
   "cell_type": "markdown",
   "id": "f0f55247",
   "metadata": {},
   "source": [
    "## 8. Summary\n",
    "\n",
    "- Logistic Regression is used for binary classification\n",
    "- Outputs probability scores between 0 and 1\n",
    "- Works well when the classes are linearly separable\n",
    "- Extendable to multinomial classification with softmax\n",
    "\n",
    "Try playing with regularization, feature scaling, and threshold tuning!"
   ]
  }
 ],
 "metadata": {},
 "nbformat": 4,
 "nbformat_minor": 5
}
