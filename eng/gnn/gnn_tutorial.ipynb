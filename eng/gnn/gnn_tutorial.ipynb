{
 "cells": [
  {
   "cell_type": "markdown",
   "id": "5fb8936c",
   "metadata": {},
   "source": [
    "# Graph Neural Networks (GNN): Advanced Tutorial\n",
    "\n",
    "**Graph Neural Networks (GNNs)** are a class of neural networks that operate on graph-structured data.\n",
    "They are used in social networks, molecules, recommendation systems, and more.\n",
    "\n",
    "In this tutorial, we build a GCN (Graph Convolutional Network) using PyTorch Geometric on a node classification task."
   ]
  },
  {
   "cell_type": "markdown",
   "id": "ff064313",
   "metadata": {},
   "source": [
    "## 1. Install Required Libraries"
   ]
  },
  {
   "cell_type": "code",
   "execution_count": null,
   "id": "a97e7d1d",
   "metadata": {},
   "outputs": [],
   "source": [
    "# !pip install torch torch-geometric torch-scatter torch-sparse -f https://data.pyg.org/whl/torch-2.0.0+cpu.html\n"
   ]
  },
  {
   "cell_type": "markdown",
   "id": "addc4f0f",
   "metadata": {},
   "source": [
    "## 2. Import Libraries"
   ]
  },
  {
   "cell_type": "code",
   "execution_count": null,
   "id": "7590986d",
   "metadata": {},
   "outputs": [],
   "source": [
    "import torch\n",
    "import torch.nn.functional as F\n",
    "from torch_geometric.datasets import Planetoid\n",
    "from torch_geometric.nn import GCNConv\n",
    "import matplotlib.pyplot as plt\n"
   ]
  },
  {
   "cell_type": "markdown",
   "id": "618f6993",
   "metadata": {},
   "source": [
    "## 3. Load Dataset (Cora)"
   ]
  },
  {
   "cell_type": "code",
   "execution_count": null,
   "id": "dc082619",
   "metadata": {},
   "outputs": [],
   "source": [
    "dataset = Planetoid(root='data/', name='Cora')\n",
    "data = dataset[0]\n",
    "\n",
    "print(data)\n",
    "print(f'Number of classes: {dataset.num_classes}')\n",
    "print(f'Number of node features: {dataset.num_node_features}')\n"
   ]
  },
  {
   "cell_type": "markdown",
   "id": "62f6a665",
   "metadata": {},
   "source": [
    "## 4. Define GCN Model"
   ]
  },
  {
   "cell_type": "code",
   "execution_count": null,
   "id": "5dff654b",
   "metadata": {},
   "outputs": [],
   "source": [
    "class GCN(torch.nn.Module):\n",
    "    def __init__(self):\n",
    "        super().__init__()\n",
    "        self.conv1 = GCNConv(dataset.num_node_features, 16)\n",
    "        self.conv2 = GCNConv(16, dataset.num_classes)\n",
    "\n",
    "    def forward(self, data):\n",
    "        x, edge_index = data.x, data.edge_index\n",
    "        x = F.relu(self.conv1(x, edge_index))\n",
    "        x = F.dropout(x, training=self.training)\n",
    "        x = self.conv2(x, edge_index)\n",
    "        return F.log_softmax(x, dim=1)\n",
    "\n",
    "model = GCN()\n",
    "optimizer = torch.optim.Adam(model.parameters(), lr=0.01, weight_decay=5e-4)\n"
   ]
  },
  {
   "cell_type": "markdown",
   "id": "9517ceba",
   "metadata": {},
   "source": [
    "## 5. Train the Model"
   ]
  },
  {
   "cell_type": "code",
   "execution_count": null,
   "id": "d9ab2bbe",
   "metadata": {},
   "outputs": [],
   "source": [
    "def train():\n",
    "    model.train()\n",
    "    optimizer.zero_grad()\n",
    "    out = model(data)\n",
    "    loss = F.nll_loss(out[data.train_mask], data.y[data.train_mask])\n",
    "    loss.backward()\n",
    "    optimizer.step()\n",
    "    return loss.item()\n",
    "\n",
    "for epoch in range(200):\n",
    "    loss = train()\n",
    "    if epoch % 20 == 0:\n",
    "        print(f'Epoch {epoch}, Loss: {loss:.4f}')\n"
   ]
  },
  {
   "cell_type": "markdown",
   "id": "ad3f531a",
   "metadata": {},
   "source": [
    "## 6. Evaluate the Model"
   ]
  },
  {
   "cell_type": "code",
   "execution_count": null,
   "id": "0ef8a7b0",
   "metadata": {},
   "outputs": [],
   "source": [
    "model.eval()\n",
    "pred = model(data).argmax(dim=1)\n",
    "correct = (pred[data.test_mask] == data.y[data.test_mask]).sum()\n",
    "acc = int(correct) / int(data.test_mask.sum())\n",
    "print(f'Test Accuracy: {acc:.4f}')\n"
   ]
  },
  {
   "cell_type": "markdown",
   "id": "87973d6f",
   "metadata": {},
   "source": [
    "## 7. Summary\n",
    "\n",
    "- GNNs learn representations of nodes using neighborhood aggregation\n",
    "- GCN is a basic yet powerful model for node classification\n",
    "- PyTorch Geometric simplifies working with graph datasets\n",
    "- Try other models: GAT, GraphSAGE, GIN"
   ]
  }
 ],
 "metadata": {},
 "nbformat": 4,
 "nbformat_minor": 5
}
