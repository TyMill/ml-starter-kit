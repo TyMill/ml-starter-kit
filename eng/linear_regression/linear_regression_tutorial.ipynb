{
 "cells": [
  {
   "cell_type": "markdown",
   "id": "af84587a",
   "metadata": {},
   "source": [
    "# Linear Regression: Advanced Tutorial\n",
    "\n",
    "This notebook demonstrates linear regression using synthetic and real-world data.\n",
    "We'll cover:\n",
    "- Manual implementation\n",
    "- Scikit-learn usage\n",
    "- Residual analysis\n",
    "- Feature importance\n",
    "- Error metrics\n"
   ]
  },
  {
   "cell_type": "markdown",
   "id": "d4fc1334",
   "metadata": {},
   "source": [
    "## 1. Import Required Libraries"
   ]
  },
  {
   "cell_type": "code",
   "execution_count": null,
   "id": "d8a2abea",
   "metadata": {},
   "outputs": [],
   "source": [
    "import numpy as np\n",
    "import pandas as pd\n",
    "import matplotlib.pyplot as plt\n",
    "import seaborn as sns\n",
    "\n",
    "from sklearn.linear_model import LinearRegression\n",
    "from sklearn.metrics import mean_squared_error, mean_absolute_error, r2_score\n",
    "from sklearn.model_selection import train_test_split\n",
    "from sklearn.datasets import fetch_california_housing\n",
    "\n",
    "sns.set(style=\"whitegrid\")\n"
   ]
  },
  {
   "cell_type": "markdown",
   "id": "1a872d36",
   "metadata": {},
   "source": [
    "## 2. Generate Synthetic Data (1D)"
   ]
  },
  {
   "cell_type": "code",
   "execution_count": null,
   "id": "4899f2c6",
   "metadata": {},
   "outputs": [],
   "source": [
    "# Generating data: y = 3x + noise\n",
    "np.random.seed(42)\n",
    "X = 2 * np.random.rand(100, 1)\n",
    "y = 3 * X + np.random.randn(100, 1)\n",
    "\n",
    "plt.scatter(X, y)\n",
    "plt.title(\"Synthetic Linear Data\")\n",
    "plt.xlabel(\"X\")\n",
    "plt.ylabel(\"y\")\n",
    "plt.show()\n"
   ]
  },
  {
   "cell_type": "markdown",
   "id": "de19b94f",
   "metadata": {},
   "source": [
    "## 3. Manual Linear Regression (Closed-form)"
   ]
  },
  {
   "cell_type": "code",
   "execution_count": null,
   "id": "a2ffdd0b",
   "metadata": {},
   "outputs": [],
   "source": [
    "X_b = np.c_[np.ones((100, 1)), X]  # add bias term\n",
    "theta_best = np.linalg.inv(X_b.T.dot(X_b)).dot(X_b.T).dot(y)\n",
    "\n",
    "print(\"Theta (Intercept, Coef):\", theta_best.ravel())\n",
    "\n",
    "# Predict\n",
    "X_new = np.array([[0], [2]])\n",
    "X_new_b = np.c_[np.ones((2, 1)), X_new]\n",
    "y_predict = X_new_b.dot(theta_best)\n",
    "\n",
    "plt.plot(X_new, y_predict, \"r-\", label=\"Prediction\")\n",
    "plt.scatter(X, y, alpha=0.6)\n",
    "plt.title(\"Closed-form Linear Regression\")\n",
    "plt.xlabel(\"X\")\n",
    "plt.ylabel(\"y\")\n",
    "plt.legend()\n",
    "plt.show()\n"
   ]
  },
  {
   "cell_type": "markdown",
   "id": "4e3f2e61",
   "metadata": {},
   "source": [
    "## 4. Linear Regression with scikit-learn"
   ]
  },
  {
   "cell_type": "code",
   "execution_count": null,
   "id": "5c4296db",
   "metadata": {},
   "outputs": [],
   "source": [
    "lin_reg = LinearRegression()\n",
    "lin_reg.fit(X, y)\n",
    "\n",
    "print(\"Intercept:\", lin_reg.intercept_)\n",
    "print(\"Coefficient:\", lin_reg.coef_)\n",
    "\n",
    "y_pred = lin_reg.predict(X)\n",
    "plt.scatter(X, y, alpha=0.6)\n",
    "plt.plot(X, y_pred, color='red', label='sklearn model')\n",
    "plt.title(\"Linear Regression with scikit-learn\")\n",
    "plt.xlabel(\"X\")\n",
    "plt.ylabel(\"y\")\n",
    "plt.legend()\n",
    "plt.show()\n"
   ]
  },
  {
   "cell_type": "markdown",
   "id": "742f1d23",
   "metadata": {},
   "source": [
    "## 5. Residual Analysis"
   ]
  },
  {
   "cell_type": "code",
   "execution_count": null,
   "id": "5ca70a45",
   "metadata": {},
   "outputs": [],
   "source": [
    "residuals = y - y_pred\n",
    "plt.scatter(y_pred, residuals)\n",
    "plt.axhline(0, color='red', linestyle='--')\n",
    "plt.title(\"Residuals Plot\")\n",
    "plt.xlabel(\"Predicted\")\n",
    "plt.ylabel(\"Residuals\")\n",
    "plt.show()\n"
   ]
  },
  {
   "cell_type": "markdown",
   "id": "7e2b36d4",
   "metadata": {},
   "source": [
    "## 6. Real Dataset: California Housing"
   ]
  },
  {
   "cell_type": "code",
   "execution_count": null,
   "id": "4ac4c589",
   "metadata": {},
   "outputs": [],
   "source": [
    "data = fetch_california_housing(as_frame=True)\n",
    "df = data.frame\n",
    "\n",
    "df.head()\n"
   ]
  },
  {
   "cell_type": "markdown",
   "id": "f8b86a44",
   "metadata": {},
   "source": [
    "## 7. Prepare the Data"
   ]
  },
  {
   "cell_type": "code",
   "execution_count": null,
   "id": "1a9137cc",
   "metadata": {},
   "outputs": [],
   "source": [
    "X = df.drop(\"MedHouseVal\", axis=1)\n",
    "y = df[\"MedHouseVal\"]\n",
    "\n",
    "X_train, X_test, y_train, y_test = train_test_split(X, y, test_size=0.2, random_state=42)\n",
    "\n",
    "model = LinearRegression()\n",
    "model.fit(X_train, y_train)\n",
    "\n",
    "y_pred = model.predict(X_test)\n"
   ]
  },
  {
   "cell_type": "markdown",
   "id": "ebc76736",
   "metadata": {},
   "source": [
    "## 8. Model Evaluation"
   ]
  },
  {
   "cell_type": "code",
   "execution_count": null,
   "id": "eab5e660",
   "metadata": {},
   "outputs": [],
   "source": [
    "print(\"MAE:\", mean_absolute_error(y_test, y_pred))\n",
    "print(\"MSE:\", mean_squared_error(y_test, y_pred))\n",
    "print(\"RMSE:\", np.sqrt(mean_squared_error(y_test, y_pred)))\n",
    "print(\"R²:\", r2_score(y_test, y_pred))\n"
   ]
  },
  {
   "cell_type": "markdown",
   "id": "98064c94",
   "metadata": {},
   "source": [
    "## 9. Feature Importance"
   ]
  },
  {
   "cell_type": "code",
   "execution_count": null,
   "id": "3a594e56",
   "metadata": {},
   "outputs": [],
   "source": [
    "importance = pd.Series(model.coef_, index=X.columns).sort_values()\n",
    "\n",
    "plt.figure(figsize=(10, 6))\n",
    "importance.plot(kind='barh')\n",
    "plt.title(\"Feature Importance (Coefficients)\")\n",
    "plt.show()\n"
   ]
  },
  {
   "cell_type": "markdown",
   "id": "4e4a636e",
   "metadata": {},
   "source": [
    "## 10. Summary\n",
    "\n",
    "- Linear regression is fast and interpretable.\n",
    "- Works well with linear relationships.\n",
    "- Residuals should be randomly distributed.\n",
    "- Sensitive to multicollinearity and outliers.\n",
    "\n",
    "Try experimenting with polynomial features or regularization!"
   ]
  }
 ],
 "metadata": {},
 "nbformat": 4,
 "nbformat_minor": 5
}
