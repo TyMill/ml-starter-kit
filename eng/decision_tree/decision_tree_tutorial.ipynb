{
 "cells": [
  {
   "cell_type": "markdown",
   "id": "a7fb736f",
   "metadata": {},
   "source": [
    "# Decision Trees: Advanced Tutorial\n",
    "\n",
    "A **Decision Tree** is a supervised learning algorithm used for both classification and regression tasks.\n",
    "It models decisions using a tree-like structure where internal nodes represent features, branches represent conditions, and leaves represent outcomes."
   ]
  },
  {
   "cell_type": "markdown",
   "id": "52b55047",
   "metadata": {},
   "source": [
    "## 1. Import Required Libraries"
   ]
  },
  {
   "cell_type": "code",
   "execution_count": null,
   "id": "13820481",
   "metadata": {},
   "outputs": [],
   "source": [
    "import numpy as np\n",
    "import pandas as pd\n",
    "import matplotlib.pyplot as plt\n",
    "import seaborn as sns\n",
    "\n",
    "from sklearn.datasets import load_iris\n",
    "from sklearn.tree import DecisionTreeClassifier, plot_tree, export_text\n",
    "from sklearn.model_selection import train_test_split, cross_val_score\n",
    "from sklearn.metrics import classification_report, confusion_matrix\n",
    "\n",
    "sns.set(style=\"whitegrid\")\n"
   ]
  },
  {
   "cell_type": "markdown",
   "id": "5f1e3e0e",
   "metadata": {},
   "source": [
    "## 2. Load Dataset (Iris)"
   ]
  },
  {
   "cell_type": "code",
   "execution_count": null,
   "id": "480981bb",
   "metadata": {},
   "outputs": [],
   "source": [
    "iris = load_iris()\n",
    "X = pd.DataFrame(iris.data, columns=iris.feature_names)\n",
    "y = pd.Series(iris.target, name=\"target\")\n",
    "\n",
    "X_train, X_test, y_train, y_test = train_test_split(X, y, test_size=0.3, random_state=42)\n",
    "\n",
    "X.head()\n"
   ]
  },
  {
   "cell_type": "markdown",
   "id": "c9f8c131",
   "metadata": {},
   "source": [
    "## 3. Train Decision Tree Classifier"
   ]
  },
  {
   "cell_type": "code",
   "execution_count": null,
   "id": "d264f487",
   "metadata": {},
   "outputs": [],
   "source": [
    "clf = DecisionTreeClassifier(max_depth=3, random_state=42)\n",
    "clf.fit(X_train, y_train)\n"
   ]
  },
  {
   "cell_type": "markdown",
   "id": "257cfcd7",
   "metadata": {},
   "source": [
    "## 4. Visualize the Tree"
   ]
  },
  {
   "cell_type": "code",
   "execution_count": null,
   "id": "ea0c7eee",
   "metadata": {},
   "outputs": [],
   "source": [
    "plt.figure(figsize=(12, 8))\n",
    "plot_tree(clf, filled=True, feature_names=X.columns, class_names=iris.target_names)\n",
    "plt.title(\"Decision Tree Visualization\")\n",
    "plt.show()\n"
   ]
  },
  {
   "cell_type": "markdown",
   "id": "ed5f5fd1",
   "metadata": {},
   "source": [
    "## 5. Tree Logic (Text Output)"
   ]
  },
  {
   "cell_type": "code",
   "execution_count": null,
   "id": "195d9cc7",
   "metadata": {},
   "outputs": [],
   "source": [
    "tree_rules = export_text(clf, feature_names=list(X.columns))\n",
    "print(tree_rules)\n"
   ]
  },
  {
   "cell_type": "markdown",
   "id": "3b4bf888",
   "metadata": {},
   "source": [
    "## 6. Evaluate Model"
   ]
  },
  {
   "cell_type": "code",
   "execution_count": null,
   "id": "f2e7bed7",
   "metadata": {},
   "outputs": [],
   "source": [
    "y_pred = clf.predict(X_test)\n",
    "\n",
    "print(confusion_matrix(y_test, y_pred))\n",
    "print(classification_report(y_test, y_pred, target_names=iris.target_names))\n"
   ]
  },
  {
   "cell_type": "markdown",
   "id": "2d9f3b31",
   "metadata": {},
   "source": [
    "## 7. Cross-Validation"
   ]
  },
  {
   "cell_type": "code",
   "execution_count": null,
   "id": "68a3ef7f",
   "metadata": {},
   "outputs": [],
   "source": [
    "scores = cross_val_score(clf, X, y, cv=5)\n",
    "print(\"CV Accuracy:\", np.round(scores, 3))\n",
    "print(\"Mean Accuracy:\", np.mean(scores).round(3))\n"
   ]
  },
  {
   "cell_type": "markdown",
   "id": "15d2e8c5",
   "metadata": {},
   "source": [
    "## 8. Effect of Tree Depth"
   ]
  },
  {
   "cell_type": "code",
   "execution_count": null,
   "id": "0847de09",
   "metadata": {},
   "outputs": [],
   "source": [
    "depths = range(1, 11)\n",
    "mean_scores = []\n",
    "\n",
    "for depth in depths:\n",
    "    model = DecisionTreeClassifier(max_depth=depth, random_state=42)\n",
    "    scores = cross_val_score(model, X, y, cv=5)\n",
    "    mean_scores.append(scores.mean())\n",
    "\n",
    "plt.plot(depths, mean_scores, marker='o')\n",
    "plt.xlabel(\"Tree Depth\")\n",
    "plt.ylabel(\"CV Accuracy\")\n",
    "plt.title(\"Accuracy vs Tree Depth\")\n",
    "plt.show()\n"
   ]
  },
  {
   "cell_type": "markdown",
   "id": "06698157",
   "metadata": {},
   "source": [
    "## 9. Summary\n",
    "\n",
    "- Decision Trees are interpretable and easy to visualize\n",
    "- Overfitting occurs with deep trees\n",
    "- Tune `max_depth`, `min_samples_split`, etc.\n",
    "- Work well for tabular data with mixed types"
   ]
  }
 ],
 "metadata": {},
 "nbformat": 4,
 "nbformat_minor": 5
}
