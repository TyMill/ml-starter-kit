{
 "cells": [
  {
   "cell_type": "markdown",
   "id": "d46e12ab",
   "metadata": {},
   "source": [
    "# Principal Component Analysis (PCA): Advanced Tutorial\n",
    "\n",
    "**PCA** is a dimensionality reduction technique that transforms high-dimensional data into a lower-dimensional space.\n",
    "It finds the directions (principal components) that maximize variance in the data."
   ]
  },
  {
   "cell_type": "markdown",
   "id": "8c717e59",
   "metadata": {},
   "source": [
    "## 1. Import Required Libraries"
   ]
  },
  {
   "cell_type": "code",
   "execution_count": null,
   "id": "ccca930e",
   "metadata": {},
   "outputs": [],
   "source": [
    "import numpy as np\n",
    "import pandas as pd\n",
    "import matplotlib.pyplot as plt\n",
    "import seaborn as sns\n",
    "\n",
    "from sklearn.decomposition import PCA\n",
    "from sklearn.datasets import load_digits\n",
    "from sklearn.preprocessing import StandardScaler\n",
    "from sklearn.model_selection import train_test_split\n",
    "from sklearn.linear_model import LogisticRegression\n",
    "from sklearn.metrics import accuracy_score\n",
    "\n",
    "sns.set(style='whitegrid')\n"
   ]
  },
  {
   "cell_type": "markdown",
   "id": "10b775dd",
   "metadata": {},
   "source": [
    "## 2. Load and Preprocess the Data"
   ]
  },
  {
   "cell_type": "code",
   "execution_count": null,
   "id": "e090f66c",
   "metadata": {},
   "outputs": [],
   "source": [
    "digits = load_digits()\n",
    "X = digits.data\n",
    "y = digits.target\n",
    "\n",
    "X_scaled = StandardScaler().fit_transform(X)\n",
    "\n",
    "X_train, X_test, y_train, y_test = train_test_split(X_scaled, y, test_size=0.3, random_state=42)\n",
    "\n",
    "print(\"Original shape:\", X.shape)\n"
   ]
  },
  {
   "cell_type": "markdown",
   "id": "33182c2f",
   "metadata": {},
   "source": [
    "## 3. Apply PCA"
   ]
  },
  {
   "cell_type": "code",
   "execution_count": null,
   "id": "174f50fa",
   "metadata": {},
   "outputs": [],
   "source": [
    "pca = PCA(n_components=2)\n",
    "X_pca = pca.fit_transform(X_scaled)\n",
    "\n",
    "plt.figure(figsize=(10, 6))\n",
    "scatter = plt.scatter(X_pca[:, 0], X_pca[:, 1], c=y, cmap='tab10', s=30)\n",
    "plt.legend(*scatter.legend_elements(), title=\"Digits\")\n",
    "plt.xlabel(\"PC 1\")\n",
    "plt.ylabel(\"PC 2\")\n",
    "plt.title(\"Digits Dataset Projected onto 2D via PCA\")\n",
    "plt.show()\n"
   ]
  },
  {
   "cell_type": "markdown",
   "id": "e7f92916",
   "metadata": {},
   "source": [
    "## 4. Explained Variance"
   ]
  },
  {
   "cell_type": "code",
   "execution_count": null,
   "id": "cafb493f",
   "metadata": {},
   "outputs": [],
   "source": [
    "pca_full = PCA().fit(X_scaled)\n",
    "explained_variance = np.cumsum(pca_full.explained_variance_ratio_)\n",
    "\n",
    "plt.plot(np.arange(1, len(explained_variance)+1), explained_variance, marker='o')\n",
    "plt.xlabel(\"Number of Components\")\n",
    "plt.ylabel(\"Cumulative Explained Variance\")\n",
    "plt.title(\"PCA Explained Variance\")\n",
    "plt.grid(True)\n",
    "plt.show()\n"
   ]
  },
  {
   "cell_type": "markdown",
   "id": "81580c6a",
   "metadata": {},
   "source": [
    "## 5. PCA + Classification"
   ]
  },
  {
   "cell_type": "code",
   "execution_count": null,
   "id": "fa11ea20",
   "metadata": {},
   "outputs": [],
   "source": [
    "pca = PCA(n_components=30)\n",
    "X_train_pca = pca.fit_transform(X_train)\n",
    "X_test_pca = pca.transform(X_test)\n",
    "\n",
    "clf = LogisticRegression(max_iter=1000)\n",
    "clf.fit(X_train_pca, y_train)\n",
    "y_pred = clf.predict(X_test_pca)\n",
    "\n",
    "print(\"Classification Accuracy (with PCA):\", accuracy_score(y_test, y_pred))\n"
   ]
  },
  {
   "cell_type": "markdown",
   "id": "f2888a4c",
   "metadata": {},
   "source": [
    "## 6. Summary\n",
    "\n",
    "- PCA reduces dimensionality while preserving variance\n",
    "- Useful for visualization and speeding up models\n",
    "- PCA components are orthogonal and ranked by variance\n",
    "- Use `explained_variance_ratio_` to guide `n_components` choice"
   ]
  }
 ],
 "metadata": {},
 "nbformat": 4,
 "nbformat_minor": 5
}
